{
 "cells": [
  {
   "cell_type": "code",
   "execution_count": 1,
   "id": "cd20e8e4",
   "metadata": {},
   "outputs": [],
   "source": [
    "!pip install docxtpl -q"
   ]
  },
  {
   "cell_type": "code",
   "execution_count": 2,
   "id": "af568d63",
   "metadata": {},
   "outputs": [],
   "source": [
    "import pandas as pd\n",
    "from datetime import datetime\n",
    "from docxtpl import DocxTemplate"
   ]
  },
  {
   "cell_type": "code",
   "execution_count": 3,
   "id": "a9db4c58",
   "metadata": {},
   "outputs": [],
   "source": [
    "doc = DocxTemplate(\"plantilla.docx\")"
   ]
  },
  {
   "cell_type": "code",
   "execution_count": 4,
   "id": "fb498d4e",
   "metadata": {},
   "outputs": [],
   "source": [
    "nombre = \"Iván Espinoza\"\n",
    "telefono = \"(123) 456-789\"\n",
    "correo = \"ivan@gmail.com\"\n",
    "fecha = datetime.today().strftime(\"%d/%m/%Y\")"
   ]
  },
  {
   "cell_type": "code",
   "execution_count": 5,
   "id": "57b3a939",
   "metadata": {},
   "outputs": [
    {
     "name": "stdout",
     "output_type": "stream",
     "text": [
      "21/07/2023\n"
     ]
    }
   ],
   "source": [
    "print(fecha)"
   ]
  },
  {
   "cell_type": "code",
   "execution_count": 6,
   "id": "364773a8",
   "metadata": {},
   "outputs": [],
   "source": [
    "constantes = {'nombre': nombre, 'telefono': telefono, 'correo': correo,\n",
    "              'fecha': fecha}"
   ]
  },
  {
   "cell_type": "code",
   "execution_count": 7,
   "id": "a7121073",
   "metadata": {},
   "outputs": [
    {
     "name": "stdout",
     "output_type": "stream",
     "text": [
      "{'nombre': 'Iván Espinoza', 'telefono': '(123) 456-789', 'correo': 'ivan@gmail.com', 'fecha': '21/07/2023'}\n"
     ]
    }
   ],
   "source": [
    "print(constantes)"
   ]
  },
  {
   "cell_type": "code",
   "execution_count": 9,
   "id": "b1a5b3b1",
   "metadata": {},
   "outputs": [],
   "source": [
    "df = pd.read_excel('Alumnos.xlsx')"
   ]
  },
  {
   "cell_type": "code",
   "execution_count": 10,
   "id": "cb18e578",
   "metadata": {},
   "outputs": [
    {
     "data": {
      "text/html": [
       "<div>\n",
       "<style scoped>\n",
       "    .dataframe tbody tr th:only-of-type {\n",
       "        vertical-align: middle;\n",
       "    }\n",
       "\n",
       "    .dataframe tbody tr th {\n",
       "        vertical-align: top;\n",
       "    }\n",
       "\n",
       "    .dataframe thead th {\n",
       "        text-align: right;\n",
       "    }\n",
       "</style>\n",
       "<table border=\"1\" class=\"dataframe\">\n",
       "  <thead>\n",
       "    <tr style=\"text-align: right;\">\n",
       "      <th></th>\n",
       "      <th>Nombre del Alumno</th>\n",
       "      <th>Mat</th>\n",
       "      <th>Fis</th>\n",
       "      <th>Qui</th>\n",
       "    </tr>\n",
       "  </thead>\n",
       "  <tbody>\n",
       "    <tr>\n",
       "      <th>0</th>\n",
       "      <td>Juan Pérez</td>\n",
       "      <td>6.2</td>\n",
       "      <td>5.8</td>\n",
       "      <td>6.1</td>\n",
       "    </tr>\n",
       "    <tr>\n",
       "      <th>1</th>\n",
       "      <td>Ana Soto</td>\n",
       "      <td>5.9</td>\n",
       "      <td>6.4</td>\n",
       "      <td>6.3</td>\n",
       "    </tr>\n",
       "    <tr>\n",
       "      <th>2</th>\n",
       "      <td>Luis Rodríguez</td>\n",
       "      <td>5.6</td>\n",
       "      <td>6.1</td>\n",
       "      <td>5.9</td>\n",
       "    </tr>\n",
       "    <tr>\n",
       "      <th>3</th>\n",
       "      <td>María González</td>\n",
       "      <td>6.4</td>\n",
       "      <td>6.2</td>\n",
       "      <td>6.0</td>\n",
       "    </tr>\n",
       "    <tr>\n",
       "      <th>4</th>\n",
       "      <td>Carlos Ruiz</td>\n",
       "      <td>6.0</td>\n",
       "      <td>6.3</td>\n",
       "      <td>5.8</td>\n",
       "    </tr>\n",
       "    <tr>\n",
       "      <th>5</th>\n",
       "      <td>Sofía Díaz</td>\n",
       "      <td>6.1</td>\n",
       "      <td>5.9</td>\n",
       "      <td>6.2</td>\n",
       "    </tr>\n",
       "    <tr>\n",
       "      <th>6</th>\n",
       "      <td>Lucas Méndez</td>\n",
       "      <td>5.8</td>\n",
       "      <td>6.0</td>\n",
       "      <td>6.1</td>\n",
       "    </tr>\n",
       "    <tr>\n",
       "      <th>7</th>\n",
       "      <td>Isabel Paredes</td>\n",
       "      <td>6.3</td>\n",
       "      <td>6.1</td>\n",
       "      <td>6.2</td>\n",
       "    </tr>\n",
       "    <tr>\n",
       "      <th>8</th>\n",
       "      <td>Daniel Castillo</td>\n",
       "      <td>6.2</td>\n",
       "      <td>6.0</td>\n",
       "      <td>6.3</td>\n",
       "    </tr>\n",
       "    <tr>\n",
       "      <th>9</th>\n",
       "      <td>Fernanda Herrera</td>\n",
       "      <td>6.1</td>\n",
       "      <td>5.7</td>\n",
       "      <td>6.0</td>\n",
       "    </tr>\n",
       "  </tbody>\n",
       "</table>\n",
       "</div>"
      ],
      "text/plain": [
       "  Nombre del Alumno  Mat  Fis  Qui\n",
       "0        Juan Pérez  6.2  5.8  6.1\n",
       "1          Ana Soto  5.9  6.4  6.3\n",
       "2    Luis Rodríguez  5.6  6.1  5.9\n",
       "3    María González  6.4  6.2  6.0\n",
       "4       Carlos Ruiz  6.0  6.3  5.8\n",
       "5        Sofía Díaz  6.1  5.9  6.2\n",
       "6      Lucas Méndez  5.8  6.0  6.1\n",
       "7    Isabel Paredes  6.3  6.1  6.2\n",
       "8   Daniel Castillo  6.2  6.0  6.3\n",
       "9  Fernanda Herrera  6.1  5.7  6.0"
      ]
     },
     "execution_count": 10,
     "metadata": {},
     "output_type": "execute_result"
    }
   ],
   "source": [
    "df"
   ]
  },
  {
   "cell_type": "code",
   "execution_count": 30,
   "id": "b53d66bb",
   "metadata": {},
   "outputs": [
    {
     "name": "stdout",
     "output_type": "stream",
     "text": [
      "{'nombre_alumno': 'Juan Pérez', 'nota_mat': 6.2, 'nota_fis': 5.8, 'nota_qui': 6.1, 'nombre': 'Iván Espinoza', 'telefono': '(123) 456-789', 'correo': 'ivan@gmail.com', 'fecha': '21/07/2023'}\n",
      "{'nombre_alumno': 'Ana Soto', 'nota_mat': 5.9, 'nota_fis': 6.4, 'nota_qui': 6.3, 'nombre': 'Iván Espinoza', 'telefono': '(123) 456-789', 'correo': 'ivan@gmail.com', 'fecha': '21/07/2023'}\n",
      "{'nombre_alumno': 'Luis Rodríguez', 'nota_mat': 5.6, 'nota_fis': 6.1, 'nota_qui': 5.9, 'nombre': 'Iván Espinoza', 'telefono': '(123) 456-789', 'correo': 'ivan@gmail.com', 'fecha': '21/07/2023'}\n",
      "{'nombre_alumno': 'María González', 'nota_mat': 6.4, 'nota_fis': 6.2, 'nota_qui': 6.0, 'nombre': 'Iván Espinoza', 'telefono': '(123) 456-789', 'correo': 'ivan@gmail.com', 'fecha': '21/07/2023'}\n",
      "{'nombre_alumno': 'Carlos Ruiz', 'nota_mat': 6.0, 'nota_fis': 6.3, 'nota_qui': 5.8, 'nombre': 'Iván Espinoza', 'telefono': '(123) 456-789', 'correo': 'ivan@gmail.com', 'fecha': '21/07/2023'}\n",
      "{'nombre_alumno': 'Sofía Díaz', 'nota_mat': 6.1, 'nota_fis': 5.9, 'nota_qui': 6.2, 'nombre': 'Iván Espinoza', 'telefono': '(123) 456-789', 'correo': 'ivan@gmail.com', 'fecha': '21/07/2023'}\n",
      "{'nombre_alumno': 'Lucas Méndez', 'nota_mat': 5.8, 'nota_fis': 6.0, 'nota_qui': 6.1, 'nombre': 'Iván Espinoza', 'telefono': '(123) 456-789', 'correo': 'ivan@gmail.com', 'fecha': '21/07/2023'}\n",
      "{'nombre_alumno': 'Isabel Paredes', 'nota_mat': 6.3, 'nota_fis': 6.1, 'nota_qui': 6.2, 'nombre': 'Iván Espinoza', 'telefono': '(123) 456-789', 'correo': 'ivan@gmail.com', 'fecha': '21/07/2023'}\n",
      "{'nombre_alumno': 'Daniel Castillo', 'nota_mat': 6.2, 'nota_fis': 6.0, 'nota_qui': 6.3, 'nombre': 'Iván Espinoza', 'telefono': '(123) 456-789', 'correo': 'ivan@gmail.com', 'fecha': '21/07/2023'}\n",
      "{'nombre_alumno': 'Fernanda Herrera', 'nota_mat': 6.1, 'nota_fis': 5.7, 'nota_qui': 6.0, 'nombre': 'Iván Espinoza', 'telefono': '(123) 456-789', 'correo': 'ivan@gmail.com', 'fecha': '21/07/2023'}\n"
     ]
    }
   ],
   "source": [
    "for indice, fila in df.iterrows():\n",
    "    contenido = {\n",
    "        'nombre_alumno':fila[\"Nombre del Alumno\"],\n",
    "        'nota_mat': fila['Mat'],\n",
    "        'nota_fis': fila['Fis'],\n",
    "        'nota_qui': fila['Qui']\n",
    "    }\n",
    "    contenido.update(constantes)\n",
    "    \n",
    "    doc.render(contenido)\n",
    "    doc.save(f\"Notas_de_{fila['Nombre del Alumno']}.docx\")\n",
    "    \n",
    "    print(contenido)"
   ]
  },
  {
   "cell_type": "code",
   "execution_count": null,
   "id": "f9aa33b2",
   "metadata": {},
   "outputs": [],
   "source": []
  },
  {
   "cell_type": "code",
   "execution_count": null,
   "id": "276d0e95",
   "metadata": {},
   "outputs": [],
   "source": []
  },
  {
   "cell_type": "code",
   "execution_count": null,
   "id": "79e6ead0",
   "metadata": {},
   "outputs": [],
   "source": []
  },
  {
   "cell_type": "code",
   "execution_count": 8,
   "id": "a992dab4",
   "metadata": {},
   "outputs": [],
   "source": [
    "doc.render(constantes)\n",
    "doc.save(f\"prueba.docx\")"
   ]
  },
  {
   "cell_type": "code",
   "execution_count": null,
   "id": "916bfeaf",
   "metadata": {},
   "outputs": [],
   "source": []
  },
  {
   "cell_type": "code",
   "execution_count": null,
   "id": "298a2a35",
   "metadata": {},
   "outputs": [],
   "source": []
  },
  {
   "cell_type": "code",
   "execution_count": null,
   "id": "d23ba61b",
   "metadata": {},
   "outputs": [],
   "source": []
  },
  {
   "cell_type": "code",
   "execution_count": null,
   "id": "99d0980d",
   "metadata": {},
   "outputs": [],
   "source": []
  },
  {
   "cell_type": "code",
   "execution_count": null,
   "id": "3c2e9bab",
   "metadata": {},
   "outputs": [],
   "source": []
  },
  {
   "cell_type": "code",
   "execution_count": null,
   "id": "b83508f1",
   "metadata": {},
   "outputs": [],
   "source": []
  }
 ],
 "metadata": {
  "kernelspec": {
   "display_name": "Python 3 (ipykernel)",
   "language": "python",
   "name": "python3"
  },
  "language_info": {
   "codemirror_mode": {
    "name": "ipython",
    "version": 3
   },
   "file_extension": ".py",
   "mimetype": "text/x-python",
   "name": "python",
   "nbconvert_exporter": "python",
   "pygments_lexer": "ipython3",
   "version": "3.11.4"
  }
 },
 "nbformat": 4,
 "nbformat_minor": 5
}
